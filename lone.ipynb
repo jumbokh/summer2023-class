{
  "nbformat": 4,
  "nbformat_minor": 0,
  "metadata": {
    "colab": {
      "provenance": [],
      "authorship_tag": "ABX9TyNIoG80XpP4ClpWkYG1fGLH",
      "include_colab_link": true
    },
    "kernelspec": {
      "name": "python3",
      "display_name": "Python 3"
    },
    "language_info": {
      "name": "python"
    }
  },
  "cells": [
    {
      "cell_type": "markdown",
      "metadata": {
        "id": "view-in-github",
        "colab_type": "text"
      },
      "source": [
        "<a href=\"https://colab.research.google.com/github/jumbokh/summer2023-class/blob/main/lone.ipynb\" target=\"_parent\"><img src=\"https://colab.research.google.com/assets/colab-badge.svg\" alt=\"Open In Colab\"/></a>"
      ]
    },
    {
      "cell_type": "markdown",
      "source": [
        "## 貸款總金額 / 總期數 = 每期應繳本金\n",
        "## 貸款餘額 *（年利率 /12）= 當期利息\n",
        "## 每期應繳本金 ＋ 當期利息 = 當期繳款金額"
      ],
      "metadata": {
        "id": "R7WMw7-aFWMv"
      }
    },
    {
      "cell_type": "code",
      "execution_count": null,
      "metadata": {
        "id": "FRZ9ZJevFVCJ"
      },
      "outputs": [],
      "source": [
        "loan = int(input('請輸入貸款總金額?'))\n",
        "ins = float(input('請輸入年利率?'))\n",
        "year = int(input('請輸入貸款年限?'))\n",
        "loanpm = loan / (year * 12.) #每期應繳本金\n",
        "bal = loan #貸款餘額\n",
        "for i in range(1, year+1):\n",
        " totalpy = 0.\n",
        " for j in range(1, 13):\n",
        "  inspm = bal * (ins / (12. * 100.)) #當期利息\n",
        "  amount = int(loanpm + inspm)\n",
        "  totalpy = totalpy + amount\n",
        "  bal = bal - loanpm #更新貸款餘額\n",
        "  print(\"第\", i, \"年第\", j, \"月當期繳款金額\", amount)\n",
        " print(\"第\", i, \"年繳款總金額\", totalpy)"
      ]
    },
    {
      "cell_type": "code",
      "source": [],
      "metadata": {
        "id": "nt0wGCnIFixi"
      },
      "execution_count": null,
      "outputs": []
    }
  ]
}