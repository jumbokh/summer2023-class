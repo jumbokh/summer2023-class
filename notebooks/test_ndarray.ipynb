{
  "nbformat": 4,
  "nbformat_minor": 0,
  "metadata": {
    "colab": {
      "provenance": [],
      "authorship_tag": "ABX9TyPbkv0cadbYv2obNxlTJLzp",
      "include_colab_link": true
    },
    "kernelspec": {
      "name": "python3",
      "display_name": "Python 3"
    },
    "language_info": {
      "name": "python"
    }
  },
  "cells": [
    {
      "cell_type": "markdown",
      "metadata": {
        "id": "view-in-github",
        "colab_type": "text"
      },
      "source": [
        "<a href=\"https://colab.research.google.com/github/jumbokh/summer2023-class/blob/main/notebooks/test_ndarray.ipynb\" target=\"_parent\"><img src=\"https://colab.research.google.com/assets/colab-badge.svg\" alt=\"Open In Colab\"/></a>"
      ]
    },
    {
      "cell_type": "code",
      "execution_count": 2,
      "metadata": {
        "id": "hLF8-MkU6JNS"
      },
      "outputs": [],
      "source": [
        "import pandas as pd\n",
        "import numpy as np\n",
        "# Example 3: Convert DataFrame column to numpy\n",
        "df = pd.DataFrame({'Courses': ['Java', 'Spark', 'PySpark','Hadoop','C'],\n",
        "                   'Fee': [15000, 17000, 27000, 29000, 12000],\n",
        "                   'Discount': [1100, 800, 1000, 1600, 600]\n",
        "                   },index=['a', 'b', 'c', 'd', 'e'])\n",
        "new_array = np.array(df.index.values)"
      ]
    },
    {
      "cell_type": "code",
      "source": [
        "print(new_array)"
      ],
      "metadata": {
        "colab": {
          "base_uri": "https://localhost:8080/"
        },
        "id": "n21GFFnd6L4b",
        "outputId": "7ef9f99a-8b84-4888-db04-6f99e6fa8dc7"
      },
      "execution_count": 3,
      "outputs": [
        {
          "output_type": "stream",
          "name": "stdout",
          "text": [
            "['a' 'b' 'c' 'd' 'e']\n"
          ]
        }
      ]
    },
    {
      "cell_type": "code",
      "source": [
        "print(len(new_array))"
      ],
      "metadata": {
        "colab": {
          "base_uri": "https://localhost:8080/"
        },
        "id": "Akrj9pAU6Z5f",
        "outputId": "23b550a2-8206-420b-9af3-e4f7bde3a777"
      },
      "execution_count": 4,
      "outputs": [
        {
          "output_type": "stream",
          "name": "stdout",
          "text": [
            "5\n"
          ]
        }
      ]
    },
    {
      "cell_type": "code",
      "source": [
        "print(type(new_array))"
      ],
      "metadata": {
        "colab": {
          "base_uri": "https://localhost:8080/"
        },
        "id": "nTAnncqP6fBb",
        "outputId": "6d294bfc-3634-47e9-d6bc-fc2bffcfbc33"
      },
      "execution_count": 5,
      "outputs": [
        {
          "output_type": "stream",
          "name": "stdout",
          "text": [
            "<class 'numpy.ndarray'>\n"
          ]
        }
      ]
    },
    {
      "cell_type": "code",
      "source": [
        "# Example 4: Convert DataFrame column to numpy array.\n",
        "new_array = df['Discount'].to_numpy()"
      ],
      "metadata": {
        "id": "KtDDtk-N6iqR"
      },
      "execution_count": 6,
      "outputs": []
    },
    {
      "cell_type": "code",
      "source": [
        "print(new_array)"
      ],
      "metadata": {
        "colab": {
          "base_uri": "https://localhost:8080/"
        },
        "id": "ep-2FpgV7L88",
        "outputId": "e9feb448-b8c3-474a-c44a-c676ca7cc373"
      },
      "execution_count": 7,
      "outputs": [
        {
          "output_type": "stream",
          "name": "stdout",
          "text": [
            "[1100  800 1000 1600  600]\n"
          ]
        }
      ]
    },
    {
      "cell_type": "code",
      "source": [
        "print(len(new_array))"
      ],
      "metadata": {
        "colab": {
          "base_uri": "https://localhost:8080/"
        },
        "id": "rsBSlzWi7PxZ",
        "outputId": "a52a9794-444f-4898-fc1e-cf899d9c00ca"
      },
      "execution_count": 8,
      "outputs": [
        {
          "output_type": "stream",
          "name": "stdout",
          "text": [
            "5\n"
          ]
        }
      ]
    },
    {
      "cell_type": "code",
      "source": [
        "print(type(new_array))"
      ],
      "metadata": {
        "colab": {
          "base_uri": "https://localhost:8080/"
        },
        "id": "HPaoJZX87ZLB",
        "outputId": "201c6519-0f8a-457b-c09c-962724c4f7ac"
      },
      "execution_count": 9,
      "outputs": [
        {
          "output_type": "stream",
          "name": "stdout",
          "text": [
            "<class 'numpy.ndarray'>\n"
          ]
        }
      ]
    },
    {
      "cell_type": "code",
      "source": [
        "# Example 5: Convert series to numpy using pandas.index.values property.\n",
        "new_array = np.array(df.index.values)"
      ],
      "metadata": {
        "id": "-NkVhjmw7bvF"
      },
      "execution_count": 10,
      "outputs": []
    },
    {
      "cell_type": "code",
      "source": [
        "def show_info(ndf):\n",
        "   print(type(ndf))\n",
        "   print(len(ndf))\n",
        "   print(ndf)"
      ],
      "metadata": {
        "id": "GlUFzrCD7k_j"
      },
      "execution_count": 11,
      "outputs": []
    },
    {
      "cell_type": "code",
      "source": [
        "show_info(new_array)"
      ],
      "metadata": {
        "colab": {
          "base_uri": "https://localhost:8080/"
        },
        "id": "6kpQTVV87_gs",
        "outputId": "7365f7f1-c096-44e3-cdf0-7f964b0713b9"
      },
      "execution_count": 12,
      "outputs": [
        {
          "output_type": "stream",
          "name": "stdout",
          "text": [
            "<class 'numpy.ndarray'>\n",
            "5\n",
            "['a' 'b' 'c' 'd' 'e']\n"
          ]
        }
      ]
    },
    {
      "cell_type": "code",
      "source": [
        "# Example 6: Using pandas.index.to_numpy() function.\n",
        "new_array = df.index.to_numpy()"
      ],
      "metadata": {
        "id": "uPZKwXHz8FJ5"
      },
      "execution_count": 13,
      "outputs": []
    },
    {
      "cell_type": "code",
      "source": [
        "show_info(new_array)"
      ],
      "metadata": {
        "colab": {
          "base_uri": "https://localhost:8080/"
        },
        "id": "IQEGHEWa8MdE",
        "outputId": "7b423a34-0a66-4461-e426-2b1cb050873a"
      },
      "execution_count": 14,
      "outputs": [
        {
          "output_type": "stream",
          "name": "stdout",
          "text": [
            "<class 'numpy.ndarray'>\n",
            "5\n",
            "['a' 'b' 'c' 'd' 'e']\n"
          ]
        }
      ]
    },
    {
      "cell_type": "code",
      "source": [
        "# Example 7: Using pandas.index.array property.\n",
        "new_array = np.array(df.index.array)"
      ],
      "metadata": {
        "id": "PM7EDRtE8OVq"
      },
      "execution_count": 15,
      "outputs": []
    },
    {
      "cell_type": "code",
      "source": [
        "show_info(new_array)"
      ],
      "metadata": {
        "colab": {
          "base_uri": "https://localhost:8080/"
        },
        "id": "nbekxR848Tt5",
        "outputId": "448430eb-7518-4f91-8bdb-114dc69157dc"
      },
      "execution_count": 16,
      "outputs": [
        {
          "output_type": "stream",
          "name": "stdout",
          "text": [
            "<class 'numpy.ndarray'>\n",
            "5\n",
            "['a' 'b' 'c' 'd' 'e']\n"
          ]
        }
      ]
    },
    {
      "cell_type": "code",
      "source": [],
      "metadata": {
        "id": "9CiTn04u8V_O"
      },
      "execution_count": null,
      "outputs": []
    }
  ]
}