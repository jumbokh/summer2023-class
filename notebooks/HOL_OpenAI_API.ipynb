{
  "cells": [
    {
      "cell_type": "code",
      "execution_count": null,
      "metadata": {
        "colab": {
          "base_uri": "https://localhost:8080/"
        },
        "id": "yFaypRFxI-SG",
        "outputId": "f0fa69c4-ce75-47d9-d521-51d7ebfbcf49"
      },
      "outputs": [
        {
          "name": "stdout",
          "output_type": "stream",
          "text": [
            "Requirement already satisfied: openai in c:\\users\\twdav\\appdata\\local\\packages\\pythonsoftwarefoundation.python.3.8_qbz5n2kfra8p0\\localcache\\local-packages\\python38\\site-packages (1.10.0)\n",
            "Requirement already satisfied: sniffio in c:\\users\\twdav\\appdata\\local\\packages\\pythonsoftwarefoundation.python.3.8_qbz5n2kfra8p0\\localcache\\local-packages\\python38\\site-packages (from openai) (1.3.0)\n",
            "Requirement already satisfied: distro<2,>=1.7.0 in c:\\users\\twdav\\appdata\\local\\packages\\pythonsoftwarefoundation.python.3.8_qbz5n2kfra8p0\\localcache\\local-packages\\python38\\site-packages (from openai) (1.9.0)\n",
            "Requirement already satisfied: httpx<1,>=0.23.0 in c:\\users\\twdav\\appdata\\local\\packages\\pythonsoftwarefoundation.python.3.8_qbz5n2kfra8p0\\localcache\\local-packages\\python38\\site-packages (from openai) (0.26.0)\n",
            "Requirement already satisfied: typing-extensions<5,>=4.7 in c:\\users\\twdav\\appdata\\local\\packages\\pythonsoftwarefoundation.python.3.8_qbz5n2kfra8p0\\localcache\\local-packages\\python38\\site-packages (from openai) (4.9.0)\n",
            "Requirement already satisfied: anyio<5,>=3.5.0 in c:\\users\\twdav\\appdata\\local\\packages\\pythonsoftwarefoundation.python.3.8_qbz5n2kfra8p0\\localcache\\local-packages\\python38\\site-packages (from openai) (4.2.0)\n",
            "Requirement already satisfied: pydantic<3,>=1.9.0 in c:\\users\\twdav\\appdata\\local\\packages\\pythonsoftwarefoundation.python.3.8_qbz5n2kfra8p0\\localcache\\local-packages\\python38\\site-packages (from openai) (2.5.3)\n",
            "Requirement already satisfied: tqdm>4 in c:\\users\\twdav\\appdata\\local\\packages\\pythonsoftwarefoundation.python.3.8_qbz5n2kfra8p0\\localcache\\local-packages\\python38\\site-packages (from openai) (4.61.2)\n",
            "Requirement already satisfied: exceptiongroup>=1.0.2 in c:\\users\\twdav\\appdata\\local\\packages\\pythonsoftwarefoundation.python.3.8_qbz5n2kfra8p0\\localcache\\local-packages\\python38\\site-packages (from anyio<5,>=3.5.0->openai) (1.2.0)\n",
            "Requirement already satisfied: idna>=2.8 in c:\\users\\twdav\\appdata\\local\\packages\\pythonsoftwarefoundation.python.3.8_qbz5n2kfra8p0\\localcache\\local-packages\\python38\\site-packages (from anyio<5,>=3.5.0->openai) (2.10)\n",
            "Requirement already satisfied: certifi in c:\\users\\twdav\\appdata\\local\\packages\\pythonsoftwarefoundation.python.3.8_qbz5n2kfra8p0\\localcache\\local-packages\\python38\\site-packages (from httpx<1,>=0.23.0->openai) (2021.5.30)\n",
            "Requirement already satisfied: httpcore==1.* in c:\\users\\twdav\\appdata\\local\\packages\\pythonsoftwarefoundation.python.3.8_qbz5n2kfra8p0\\localcache\\local-packages\\python38\\site-packages (from httpx<1,>=0.23.0->openai) (1.0.2)\n",
            "Requirement already satisfied: h11<0.15,>=0.13 in c:\\users\\twdav\\appdata\\local\\packages\\pythonsoftwarefoundation.python.3.8_qbz5n2kfra8p0\\localcache\\local-packages\\python38\\site-packages (from httpcore==1.*->httpx<1,>=0.23.0->openai) (0.14.0)\n",
            "Requirement already satisfied: annotated-types>=0.4.0 in c:\\users\\twdav\\appdata\\local\\packages\\pythonsoftwarefoundation.python.3.8_qbz5n2kfra8p0\\localcache\\local-packages\\python38\\site-packages (from pydantic<3,>=1.9.0->openai) (0.6.0)\n",
            "Requirement already satisfied: pydantic-core==2.14.6 in c:\\users\\twdav\\appdata\\local\\packages\\pythonsoftwarefoundation.python.3.8_qbz5n2kfra8p0\\localcache\\local-packages\\python38\\site-packages (from pydantic<3,>=1.9.0->openai) (2.14.6)\n",
            "Requirement already satisfied: colorama in c:\\users\\twdav\\appdata\\local\\packages\\pythonsoftwarefoundation.python.3.8_qbz5n2kfra8p0\\localcache\\local-packages\\python38\\site-packages (from tqdm>4->openai) (0.4.4)\n"
          ]
        },
        {
          "name": "stderr",
          "output_type": "stream",
          "text": [
            "WARNING: You are using pip version 21.1.3; however, version 23.3.2 is available.\n",
            "You should consider upgrading via the 'C:\\Users\\twdav\\AppData\\Local\\Microsoft\\WindowsApps\\PythonSoftwareFoundation.Python.3.8_qbz5n2kfra8p0\\python.exe -m pip install --upgrade pip' command.\n"
          ]
        }
      ],
      "source": [
        "# 環境配置\n",
        "!pip install openai"
      ]
    },
    {
      "cell_type": "code",
      "execution_count": null,
      "metadata": {
        "id": "qxaUrPYmI3a4"
      },
      "outputs": [],
      "source": [
        "import os\n",
        "# 導入 OpenAI\n",
        "from openai import OpenAI\n",
        "\n",
        "# 設定變數 max_token\n",
        "my_max_tokens=200\n",
        "# API Key\n",
        "my_api_key=\"👉your_openai_api_key👈\"\n",
        "\n",
        "\n"
      ]
    },
    {
      "cell_type": "code",
      "execution_count": null,
      "metadata": {
        "colab": {
          "base_uri": "https://localhost:8080/"
        },
        "id": "8_xgAnRTJHdg",
        "outputId": "f823d20f-2389-4411-fde0-362980ca3885"
      },
      "outputs": [
        {
          "name": "stdout",
          "output_type": "stream",
          "text": [
            "人工智慧（Artificial Intelligence，縮寫為AI）是指利用電腦科學和機器學習等技術，模擬和實現人類智慧的能力。它是一門研究如何使機器能夠感知、理解、推理、學習和行動的科學，旨在開發賦予機器思考和解決問題的能力。\n",
            "\n",
            "人工智慧的目的是讓機器能夠像人類一樣思考、學習和執行各種複雜任務，並且能夠從\n"
          ]
        }
      ],
      "source": [
        "\n",
        "# 設定 建立 OpenAI(配置Key)\n",
        "client = OpenAI(\n",
        "    api_key=my_api_key,\n",
        ")\n",
        "\n",
        "# 使用 chat completion API\n",
        "chat_completion = client.chat.completions.create(\n",
        "    max_tokens=my_max_tokens,\n",
        "    messages=[\n",
        "        {\n",
        "            \"role\": \"user\",\n",
        "            \"content\": \"什麼是人工智慧?\", #詢問的問題\n",
        "        }\n",
        "    ],\n",
        "    model=\"gpt-3.5-turbo\",\n",
        ")\n",
        "\n",
        "# 顯示回應\n",
        "print(chat_completion.choices[0].message.content)"
      ]
    }
  ],
  "metadata": {
    "colab": {
      "provenance": []
    },
    "kernelspec": {
      "display_name": "Python 3",
      "name": "python3"
    },
    "language_info": {
      "codemirror_mode": {
        "name": "ipython",
        "version": 3
      },
      "file_extension": ".py",
      "mimetype": "text/x-python",
      "name": "python",
      "nbconvert_exporter": "python",
      "pygments_lexer": "ipython3",
      "version": "3.8.10"
    }
  },
  "nbformat": 4,
  "nbformat_minor": 0
}