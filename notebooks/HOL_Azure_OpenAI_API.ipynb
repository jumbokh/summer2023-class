{
  "cells": [
    {
      "cell_type": "code",
      "execution_count": null,
      "metadata": {
        "colab": {
          "base_uri": "https://localhost:8080/"
        },
        "id": "yFaypRFxI-SG",
        "outputId": "f0fa69c4-ce75-47d9-d521-51d7ebfbcf49"
      },
      "outputs": [
        {
          "name": "stdout",
          "output_type": "stream",
          "text": [
            "Requirement already satisfied: AzureOpenAI in c:\\users\\twdav\\appdata\\local\\packages\\pythonsoftwarefoundation.python.3.8_qbz5n2kfra8p0\\localcache\\local-packages\\python38\\site-packages (0.0.1)\n",
            "Requirement already satisfied: requests in c:\\users\\twdav\\appdata\\local\\packages\\pythonsoftwarefoundation.python.3.8_qbz5n2kfra8p0\\localcache\\local-packages\\python38\\site-packages (from AzureOpenAI) (2.25.1)\n",
            "Requirement already satisfied: jsonschema in c:\\users\\twdav\\appdata\\local\\packages\\pythonsoftwarefoundation.python.3.8_qbz5n2kfra8p0\\localcache\\local-packages\\python38\\site-packages (from AzureOpenAI) (4.21.1)\n",
            "Requirement already satisfied: aiohttp in c:\\users\\twdav\\appdata\\local\\packages\\pythonsoftwarefoundation.python.3.8_qbz5n2kfra8p0\\localcache\\local-packages\\python38\\site-packages (from AzureOpenAI) (3.9.1)\n",
            "Requirement already satisfied: attrs>=17.3.0 in c:\\users\\twdav\\appdata\\local\\packages\\pythonsoftwarefoundation.python.3.8_qbz5n2kfra8p0\\localcache\\local-packages\\python38\\site-packages (from aiohttp->AzureOpenAI) (23.2.0)\n",
            "Requirement already satisfied: yarl<2.0,>=1.0 in c:\\users\\twdav\\appdata\\local\\packages\\pythonsoftwarefoundation.python.3.8_qbz5n2kfra8p0\\localcache\\local-packages\\python38\\site-packages (from aiohttp->AzureOpenAI) (1.9.4)\n",
            "Requirement already satisfied: async-timeout<5.0,>=4.0 in c:\\users\\twdav\\appdata\\local\\packages\\pythonsoftwarefoundation.python.3.8_qbz5n2kfra8p0\\localcache\\local-packages\\python38\\site-packages (from aiohttp->AzureOpenAI) (4.0.3)\n",
            "Requirement already satisfied: aiosignal>=1.1.2 in c:\\users\\twdav\\appdata\\local\\packages\\pythonsoftwarefoundation.python.3.8_qbz5n2kfra8p0\\localcache\\local-packages\\python38\\site-packages (from aiohttp->AzureOpenAI) (1.3.1)\n",
            "Requirement already satisfied: frozenlist>=1.1.1 in c:\\users\\twdav\\appdata\\local\\packages\\pythonsoftwarefoundation.python.3.8_qbz5n2kfra8p0\\localcache\\local-packages\\python38\\site-packages (from aiohttp->AzureOpenAI) (1.4.1)\n",
            "Requirement already satisfied: multidict<7.0,>=4.5 in c:\\users\\twdav\\appdata\\local\\packages\\pythonsoftwarefoundation.python.3.8_qbz5n2kfra8p0\\localcache\\local-packages\\python38\\site-packages (from aiohttp->AzureOpenAI) (6.0.4)\n",
            "Requirement already satisfied: idna>=2.0 in c:\\users\\twdav\\appdata\\local\\packages\\pythonsoftwarefoundation.python.3.8_qbz5n2kfra8p0\\localcache\\local-packages\\python38\\site-packages (from yarl<2.0,>=1.0->aiohttp->AzureOpenAI) (2.10)\n",
            "Requirement already satisfied: rpds-py>=0.7.1 in c:\\users\\twdav\\appdata\\local\\packages\\pythonsoftwarefoundation.python.3.8_qbz5n2kfra8p0\\localcache\\local-packages\\python38\\site-packages (from jsonschema->AzureOpenAI) (0.17.1)\n",
            "Requirement already satisfied: referencing>=0.28.4 in c:\\users\\twdav\\appdata\\local\\packages\\pythonsoftwarefoundation.python.3.8_qbz5n2kfra8p0\\localcache\\local-packages\\python38\\site-packages (from jsonschema->AzureOpenAI) (0.32.1)\n",
            "Requirement already satisfied: pkgutil-resolve-name>=1.3.10 in c:\\users\\twdav\\appdata\\local\\packages\\pythonsoftwarefoundation.python.3.8_qbz5n2kfra8p0\\localcache\\local-packages\\python38\\site-packages (from jsonschema->AzureOpenAI) (1.3.10)\n",
            "Requirement already satisfied: jsonschema-specifications>=2023.03.6 in c:\\users\\twdav\\appdata\\local\\packages\\pythonsoftwarefoundation.python.3.8_qbz5n2kfra8p0\\localcache\\local-packages\\python38\\site-packages (from jsonschema->AzureOpenAI) (2023.12.1)\n",
            "Requirement already satisfied: importlib-resources>=1.4.0 in c:\\users\\twdav\\appdata\\local\\packages\\pythonsoftwarefoundation.python.3.8_qbz5n2kfra8p0\\localcache\\local-packages\\python38\\site-packages (from jsonschema->AzureOpenAI) (6.1.1)\n",
            "Requirement already satisfied: zipp>=3.1.0 in c:\\users\\twdav\\appdata\\local\\packages\\pythonsoftwarefoundation.python.3.8_qbz5n2kfra8p0\\localcache\\local-packages\\python38\\site-packages (from importlib-resources>=1.4.0->jsonschema->AzureOpenAI) (3.17.0)\n",
            "Requirement already satisfied: urllib3<1.27,>=1.21.1 in c:\\users\\twdav\\appdata\\local\\packages\\pythonsoftwarefoundation.python.3.8_qbz5n2kfra8p0\\localcache\\local-packages\\python38\\site-packages (from requests->AzureOpenAI) (1.25.11)\n",
            "Requirement already satisfied: chardet<5,>=3.0.2 in c:\\users\\twdav\\appdata\\local\\packages\\pythonsoftwarefoundation.python.3.8_qbz5n2kfra8p0\\localcache\\local-packages\\python38\\site-packages (from requests->AzureOpenAI) (4.0.0)\n",
            "Requirement already satisfied: certifi>=2017.4.17 in c:\\users\\twdav\\appdata\\local\\packages\\pythonsoftwarefoundation.python.3.8_qbz5n2kfra8p0\\localcache\\local-packages\\python38\\site-packages (from requests->AzureOpenAI) (2021.5.30)\n"
          ]
        },
        {
          "name": "stderr",
          "output_type": "stream",
          "text": [
            "WARNING: You are using pip version 21.1.3; however, version 23.3.2 is available.\n",
            "You should consider upgrading via the 'C:\\Users\\twdav\\AppData\\Local\\Microsoft\\WindowsApps\\PythonSoftwareFoundation.Python.3.8_qbz5n2kfra8p0\\python.exe -m pip install --upgrade pip' command.\n"
          ]
        }
      ],
      "source": [
        "# 環境配置\n",
        "!pip install openai\n",
        "!pip install AzureOpenAI"
      ]
    },
    {
      "cell_type": "code",
      "execution_count": null,
      "metadata": {
        "id": "qxaUrPYmI3a4"
      },
      "outputs": [],
      "source": [
        "import os\n",
        "# 導入 AzureOpenAI\n",
        "from openai import AzureOpenAI\n",
        "\n",
        "# 設定變數 max_token\n",
        "my_max_tokens=200\n",
        "# API Key\n",
        "my_api_key=\"👉your_api_key👈\"\n",
        "my_api_version=\"2023-12-01-preview\"\n",
        "my_azure_endpoint=\"https://👉your_endpoint👈.openai.azure.com/\"\n",
        "my_deployment_name=\"👉your_deployment👈\""
      ]
    },
    {
      "cell_type": "code",
      "execution_count": null,
      "metadata": {
        "colab": {
          "base_uri": "https://localhost:8080/"
        },
        "id": "8_xgAnRTJHdg",
        "outputId": "f823d20f-2389-4411-fde0-362980ca3885"
      },
      "outputs": [
        {
          "name": "stdout",
          "output_type": "stream",
          "text": [
            "人工智慧是一種賦予機器智能的方法，使機器能夠像人類一樣思考、學習、認知、推理和解決問題。通過融合機器學習、自然語言處理、計算機視覺、專家系統等技術，人工智慧已經廣泛應用於網絡搜索、自動駕駛、人臉識別、機器翻譯、醫療診斷、智能家居等各個領域，成為當今科技\n"
          ]
        }
      ],
      "source": [
        "\n",
        "# 設定 建立 OpenAI(配置Key)\n",
        "client = AzureOpenAI(\n",
        "    api_key=my_api_key,\n",
        "    api_version=my_api_version,\n",
        "    azure_endpoint = my_azure_endpoint\n",
        ")\n",
        "\n",
        "# 使用 chat completion API\n",
        "chat_completion = client.chat.completions.create(\n",
        "    max_tokens=my_max_tokens,\n",
        "    messages=[\n",
        "        {\n",
        "            \"role\": \"user\",\n",
        "            \"content\": \"什麼是人工智慧?\", #詢問的問題\n",
        "        }\n",
        "    ],\n",
        "    model=my_deployment_name,\n",
        ")\n",
        "\n",
        "# 顯示回應\n",
        "print(chat_completion.choices[0].message.content)"
      ]
    }
  ],
  "metadata": {
    "colab": {
      "provenance": []
    },
    "kernelspec": {
      "display_name": "Python 3",
      "name": "python3"
    },
    "language_info": {
      "codemirror_mode": {
        "name": "ipython",
        "version": 3
      },
      "file_extension": ".py",
      "mimetype": "text/x-python",
      "name": "python",
      "nbconvert_exporter": "python",
      "pygments_lexer": "ipython3",
      "version": "3.8.10"
    }
  },
  "nbformat": 4,
  "nbformat_minor": 0
}