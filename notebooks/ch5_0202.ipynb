{
  "nbformat": 4,
  "nbformat_minor": 0,
  "metadata": {
    "colab": {
      "provenance": [],
      "include_colab_link": true
    },
    "kernelspec": {
      "name": "python3",
      "display_name": "Python 3"
    },
    "language_info": {
      "name": "python"
    }
  },
  "cells": [
    {
      "cell_type": "markdown",
      "metadata": {
        "id": "view-in-github",
        "colab_type": "text"
      },
      "source": [
        "<a href=\"https://colab.research.google.com/github/jumbokh/summer2023-class/blob/main/notebooks/ch5_0202.ipynb\" target=\"_parent\"><img src=\"https://colab.research.google.com/assets/colab-badge.svg\" alt=\"Open In Colab\"/></a>"
      ]
    },
    {
      "cell_type": "code",
      "execution_count": 6,
      "metadata": {
        "colab": {
          "base_uri": "https://localhost:8080/"
        },
        "id": "tehVgrM-x1D7",
        "outputId": "d07bfa77-b8d0-499c-a0b0-1fe47d07319e"
      },
      "outputs": [
        {
          "output_type": "stream",
          "name": "stdout",
          "text": [
            "Please input n : 10\n",
            " 0.50, 0.50\n",
            " 1.17, 0.67\n",
            " 1.92, 0.75\n",
            " 2.72, 0.80\n",
            " 3.55, 0.83\n",
            " 4.41, 0.86\n",
            " 5.28, 0.88\n",
            " 6.17, 0.89\n",
            " 7.07, 0.90\n",
            "The result is  7.07\n"
          ]
        }
      ],
      "source": [
        "#E_5_8 功能: 計算1-(1/n)的函數。\n",
        "n=int(input('Please input n : '))\n",
        "result=0\n",
        "for i in range(2,n+1,1):\n",
        "    result=result+(1-(1/i))\n",
        "    print(\"{:5.2f},{:5.2f}\".format(result,(1-1/i)))\n",
        "print('%s %.2f' %('The result is ', result))"
      ]
    },
    {
      "cell_type": "markdown",
      "source": [
        "## https://www.runoob.com/python/att-string-format.html"
      ],
      "metadata": {
        "id": "L5VcFWOGsMGo"
      }
    },
    {
      "cell_type": "markdown",
      "source": [],
      "metadata": {
        "id": "sM3_Wr76sQmH"
      }
    },
    {
      "cell_type": "code",
      "source": [
        "from random import randint as ri\n",
        "for i in range(10):\n",
        " num=ri(1,6)\n",
        " print(' {:2d}'.format(num),end='')\n",
        "print()"
      ],
      "metadata": {
        "colab": {
          "base_uri": "https://localhost:8080/"
        },
        "id": "afvrmgVy0fCb",
        "outputId": "fbfca06c-bdd0-4d93-de99-7895376ed86a"
      },
      "execution_count": null,
      "outputs": [
        {
          "output_type": "stream",
          "name": "stdout",
          "text": [
            "  4  5  6  1  6  1  6  6  2  2\n"
          ]
        }
      ]
    },
    {
      "cell_type": "code",
      "source": [
        "from random import randint as ri\n",
        "for i in range(10):\n",
        " print(' {:2d}'.format(ri(1,6)),end='')\n",
        "print()"
      ],
      "metadata": {
        "colab": {
          "base_uri": "https://localhost:8080/"
        },
        "id": "1YPNsMd32TpN",
        "outputId": "b9f23ffb-b8ea-43ff-8533-6958752c5c1e"
      },
      "execution_count": null,
      "outputs": [
        {
          "output_type": "stream",
          "name": "stdout",
          "text": [
            "  5  4  5  6  6  5  4  3  6  1\n"
          ]
        }
      ]
    },
    {
      "cell_type": "code",
      "source": [
        "from random import randint as ri\n",
        "import random\n",
        "s=['A','B','C','D','E']\n",
        "for i in range(10):\n",
        " num=ri(1,6)\n",
        " print('{:2d} '.format(num),end='')\n",
        "print()\n",
        "for i in range(10):\n",
        " print(' {:2s}'.format(random.choice(s)),end='')\n",
        "print()"
      ],
      "metadata": {
        "colab": {
          "base_uri": "https://localhost:8080/"
        },
        "id": "NVIA9A_e5RZx",
        "outputId": "ab155e51-dcb4-4d85-dc91-d36a906d461b"
      },
      "execution_count": null,
      "outputs": [
        {
          "output_type": "stream",
          "name": "stdout",
          "text": [
            " 6  6  6  5  6  1  2  1  6  1 \n",
            " A  D  C  E  E  B  C  A  A  B \n"
          ]
        }
      ]
    },
    {
      "cell_type": "code",
      "source": [
        "for i in range(1,10):\n",
        "  for j in range(1,10):\n",
        "    print('{}x{}={:2d}'.format(i,j,i*j),end=' ')\n",
        "  print()"
      ],
      "metadata": {
        "colab": {
          "base_uri": "https://localhost:8080/"
        },
        "id": "vhSAipCs53x4",
        "outputId": "023bfd66-caed-4337-dc57-ed06cac239ad"
      },
      "execution_count": null,
      "outputs": [
        {
          "output_type": "stream",
          "name": "stdout",
          "text": [
            "1x1= 1 1x2= 2 1x3= 3 1x4= 4 1x5= 5 1x6= 6 1x7= 7 1x8= 8 1x9= 9 \n",
            "2x1= 2 2x2= 4 2x3= 6 2x4= 8 2x5=10 2x6=12 2x7=14 2x8=16 2x9=18 \n",
            "3x1= 3 3x2= 6 3x3= 9 3x4=12 3x5=15 3x6=18 3x7=21 3x8=24 3x9=27 \n",
            "4x1= 4 4x2= 8 4x3=12 4x4=16 4x5=20 4x6=24 4x7=28 4x8=32 4x9=36 \n",
            "5x1= 5 5x2=10 5x3=15 5x4=20 5x5=25 5x6=30 5x7=35 5x8=40 5x9=45 \n",
            "6x1= 6 6x2=12 6x3=18 6x4=24 6x5=30 6x6=36 6x7=42 6x8=48 6x9=54 \n",
            "7x1= 7 7x2=14 7x3=21 7x4=28 7x5=35 7x6=42 7x7=49 7x8=56 7x9=63 \n",
            "8x1= 8 8x2=16 8x3=24 8x4=32 8x5=40 8x6=48 8x7=56 8x8=64 8x9=72 \n",
            "9x1= 9 9x2=18 9x3=27 9x4=36 9x5=45 9x6=54 9x7=63 9x8=72 9x9=81 \n"
          ]
        }
      ]
    },
    {
      "cell_type": "markdown",
      "source": [
        "## 7-2-6 含有條件式的串列生成"
      ],
      "metadata": {
        "id": "ho5XwVxxkxUH"
      }
    },
    {
      "cell_type": "code",
      "source": [
        "oddlist=[]\n",
        "for num in range(1,10):\n",
        "  if num % 2 == 1:\n",
        "    oddlist.append(num)\n",
        "print(oddlist)\n",
        "oddlist1=[num for num in range(1,10) if num%2==1]\n",
        "print(oddlist1)"
      ],
      "metadata": {
        "colab": {
          "base_uri": "https://localhost:8080/"
        },
        "id": "BC2qZ2roKei5",
        "outputId": "6a345111-850e-4d3b-b290-bacafc7e62ef"
      },
      "execution_count": null,
      "outputs": [
        {
          "output_type": "stream",
          "name": "stdout",
          "text": [
            "[1, 3, 5, 7, 9]\n",
            "[1, 3, 5, 7, 9]\n"
          ]
        }
      ]
    },
    {
      "cell_type": "markdown",
      "source": [
        "## 從 1~20 間的數字找出 $a^2 + b^2 = c^2$ 的組合"
      ],
      "metadata": {
        "id": "2KWdGxBqLX43"
      }
    },
    {
      "cell_type": "code",
      "source": [
        "x = [[a,b,c] for a in range(1,20) for b in range(a,20) for c in range(b,20)\n",
        "     if a**2 + b **2 ==c**2]\n",
        "print(x)"
      ],
      "metadata": {
        "colab": {
          "base_uri": "https://localhost:8080/"
        },
        "id": "mhX0x5q9LulC",
        "outputId": "79e54ffe-90e8-4877-dd96-18b2700cb887"
      },
      "execution_count": 7,
      "outputs": [
        {
          "output_type": "stream",
          "name": "stdout",
          "text": [
            "[[3, 4, 5], [5, 12, 13], [6, 8, 10], [8, 15, 17], [9, 12, 15]]\n"
          ]
        }
      ]
    },
    {
      "cell_type": "markdown",
      "source": [
        "## 列出ASCII碼值或Unicode碼值的字"
      ],
      "metadata": {
        "id": "pu0z9W7NMYoA"
      }
    },
    {
      "cell_type": "code",
      "source": [
        "for x in range(32,128):\n",
        "  print(chr(x),end=\" \")\n",
        "print()"
      ],
      "metadata": {
        "colab": {
          "base_uri": "https://localhost:8080/"
        },
        "id": "ahCsckv4Mpcm",
        "outputId": "ef97b3c3-f692-4738-b795-24f8666a3238"
      },
      "execution_count": 8,
      "outputs": [
        {
          "output_type": "stream",
          "name": "stdout",
          "text": [
            "  ! \" # $ % & ' ( ) * + , - . / 0 1 2 3 4 5 6 7 8 9 : ; < = > ? @ A B C D E F G H I J K L M N O P Q R S T U V W X Y Z [ \\ ] ^ _ ` a b c d e f g h i j k l m n o p q r s t u v w x y z { | } ~  \n"
          ]
        }
      ]
    },
    {
      "cell_type": "code",
      "source": [
        "print(ord('0'))"
      ],
      "metadata": {
        "id": "26A-TTa1zV77",
        "outputId": "8d960e92-e952-4cdb-dcca-31ea7c29d87e",
        "colab": {
          "base_uri": "https://localhost:8080/"
        }
      },
      "execution_count": 9,
      "outputs": [
        {
          "output_type": "stream",
          "name": "stdout",
          "text": [
            "48\n"
          ]
        }
      ]
    },
    {
      "cell_type": "markdown",
      "source": [
        "## 繪製直角三角形"
      ],
      "metadata": {
        "id": "0_REYk4dNLah"
      }
    },
    {
      "cell_type": "code",
      "source": [
        "for i in range(1,10):\n",
        "  for j in range(1,10):\n",
        "    if j <=i:\n",
        "      print(\"**\",end=\"\")\n",
        "  print()"
      ],
      "metadata": {
        "colab": {
          "base_uri": "https://localhost:8080/"
        },
        "id": "Dbxwq2k0NR80",
        "outputId": "04b87c90-d412-4dce-9d25-74e5e230ad35"
      },
      "execution_count": null,
      "outputs": [
        {
          "output_type": "stream",
          "name": "stdout",
          "text": [
            "**\n",
            "****\n",
            "******\n",
            "********\n",
            "**********\n",
            "************\n",
            "**************\n",
            "****************\n",
            "******************\n"
          ]
        }
      ]
    },
    {
      "cell_type": "markdown",
      "source": [
        "## 繪製菱形"
      ],
      "metadata": {
        "id": "EmFlAJGzN4lp"
      }
    },
    {
      "cell_type": "code",
      "source": [
        "n = 9\n",
        "print(\"Pattern 1\")\n",
        "for a1 in range(1, (n+1)//2 + 1): #from row 1 to 5\n",
        "    for a2 in range((n+1)//2 - a1):\n",
        "        print(\" \", end = \"\")\n",
        "    for a3 in range((a1*2)-1):\n",
        "        print(\"*\", end = \"\")\n",
        "    print()\n",
        "\n",
        "for a1 in range((n+1)//2 + 1, n + 1): #from row 6 to 9\n",
        "    for a2 in range(a1 - (n+1)//2):\n",
        "        print(\" \", end = \"\")\n",
        "    for a3 in range((n+1 - a1)*2 - 1):\n",
        "        print(\"*\", end = \"\")\n",
        "    print()"
      ],
      "metadata": {
        "colab": {
          "base_uri": "https://localhost:8080/"
        },
        "id": "qbz6Gp10N-Le",
        "outputId": "28e29040-c86f-4ed3-e77a-7539fce60d1d"
      },
      "execution_count": 10,
      "outputs": [
        {
          "output_type": "stream",
          "name": "stdout",
          "text": [
            "Pattern 1\n",
            "    *\n",
            "   ***\n",
            "  *****\n",
            " *******\n",
            "*********\n",
            " *******\n",
            "  *****\n",
            "   ***\n",
            "    *\n"
          ]
        }
      ]
    },
    {
      "cell_type": "code",
      "source": [
        "h = int(input(\"please enter diamond's height:\"))\n",
        "\n",
        "for i in range(h):\n",
        "    print(\" \"*(h-i), \"*\"*(i*2+1))\n",
        "for i in range(h-2, -1, -1):\n",
        "    print(\" \"*(h-i), \"*\"*(i*2+1))"
      ],
      "metadata": {
        "colab": {
          "base_uri": "https://localhost:8080/"
        },
        "id": "4tlxHWycOMyI",
        "outputId": "a3c61b3d-0035-43af-877f-a085dcc58ba2"
      },
      "execution_count": 14,
      "outputs": [
        {
          "output_type": "stream",
          "name": "stdout",
          "text": [
            "please enter diamond's height:9\n",
            "          *\n",
            "         ***\n",
            "        *****\n",
            "       *******\n",
            "      *********\n",
            "     ***********\n",
            "    *************\n",
            "   ***************\n",
            "  *****************\n",
            "   ***************\n",
            "    *************\n",
            "     ***********\n",
            "      *********\n",
            "       *******\n",
            "        *****\n",
            "         ***\n",
            "          *\n"
          ]
        }
      ]
    },
    {
      "cell_type": "markdown",
      "source": [
        "```\n",
        "The logic is the following:\n",
        "(A space is represented as \"0\" here.)\n",
        "\n",
        "# i = 1 | new i = 1 - 5 = -4 | * : 9 - 8 = 1 | 0000 + * + 0000\n",
        "# i = 2 | new i = 2 - 5 = -3 | * : 9 - 6 = 3 | 000 + *** + 000\n",
        "# i = 3 | new i = 3 - 5 = -2 | * : 9 - 4 = 5 | 00 + ***** + 00\n",
        "# i = 4 | new i = 4 - 5 = -1 | * : 9 - 2 = 7 | 0 + ******* + 0\n",
        "# i = 5 | new i = 5 - 5 = 0  | * : 9 - 0 = 9 |    *********\n",
        "# i = 6 | new i = 6 - 5 = 1  | * : 9 - 2 = 7 | 0 + ******* + 0\n",
        "# i = 7 | new i = 7 - 5 = 2  | * : 9 - 4 = 5 | 00 + ***** + 00\n",
        "# i = 8 | new i = 8 - 5 = 3  | * : 9 - 6 = 3 | 000 + *** + 000\n",
        "# i = 9 | new i = 9 - 5 = 4  | * : 9 - 8 = 1 | 0000 + * + 0000\n",
        "```"
      ],
      "metadata": {
        "id": "QrHgdtdnOgD8"
      }
    },
    {
      "cell_type": "code",
      "source": [
        "num = 9\n",
        "\n",
        "for i in range(1, num+1):\n",
        "  i = i - (num//2 +1)\n",
        "  if i < 0:\n",
        "    i = -i\n",
        "  print(\" \" * i + \"*\" * (num - i*2) + \" \"*i)"
      ],
      "metadata": {
        "colab": {
          "base_uri": "https://localhost:8080/"
        },
        "id": "mfoa4S9SOXIW",
        "outputId": "6eb52247-eddf-4577-dc3d-a4692edd3804"
      },
      "execution_count": 13,
      "outputs": [
        {
          "output_type": "stream",
          "name": "stdout",
          "text": [
            "    *\n",
            "   ***\n",
            "  *****\n",
            " *******\n",
            "*********\n",
            " *******\n",
            "  *****\n",
            "   ***\n",
            "    *\n"
          ]
        }
      ]
    },
    {
      "cell_type": "markdown",
      "source": [
        "## 質數測試程式"
      ],
      "metadata": {
        "id": "NlzScqGcOsaF"
      }
    },
    {
      "cell_type": "code",
      "source": [
        "num = int(input(\"請輸入大於1的整數做質數測試? \"))\n",
        "if num == 2:\n",
        "  print(f\"{num}是質數\")\n",
        "else:\n",
        "  for n in range(2,num):\n",
        "    if num%n==0:\n",
        "      print(f\"{num}不是質數\")\n",
        "      break\n",
        "    else:\n",
        "      print(f\"{num}是質數\")\n",
        "      break"
      ],
      "metadata": {
        "colab": {
          "base_uri": "https://localhost:8080/"
        },
        "id": "ffb81aDJOxLP",
        "outputId": "80a2bf2c-b86b-468b-80c2-399198364278"
      },
      "execution_count": 16,
      "outputs": [
        {
          "output_type": "stream",
          "name": "stdout",
          "text": [
            "請輸入大於1的整數做質數測試? 97\n",
            "97是質數\n"
          ]
        }
      ]
    },
    {
      "cell_type": "markdown",
      "source": [
        "## enumerate 物件使用 for 迴圈解析"
      ],
      "metadata": {
        "id": "KUdwdAMvQQtU"
      }
    },
    {
      "cell_type": "code",
      "source": [
        "drinks=[\"coffee\",\"tea\",\"wine\"]\n",
        "for drink in enumerate(drinks):\n",
        "  print(drink)\n",
        "print(\"***********************\")\n",
        "for drink in enumerate(drinks,10):\n",
        "  print(drink)\n",
        "for count, drink in enumerate(drinks, 10):\n",
        "  print(count, drink)"
      ],
      "metadata": {
        "colab": {
          "base_uri": "https://localhost:8080/"
        },
        "id": "shO_jKmpQatH",
        "outputId": "1491d841-d3a8-4709-a7be-0ae36888f236"
      },
      "execution_count": 17,
      "outputs": [
        {
          "output_type": "stream",
          "name": "stdout",
          "text": [
            "(0, 'coffee')\n",
            "(1, 'tea')\n",
            "(2, 'wine')\n",
            "***********************\n",
            "(10, 'coffee')\n",
            "(11, 'tea')\n",
            "(12, 'wine')\n",
            "10 coffee\n",
            "11 tea\n",
            "12 wine\n"
          ]
        }
      ]
    },
    {
      "cell_type": "markdown",
      "source": [
        "## 設定 3*5 的二維陣列"
      ],
      "metadata": {
        "id": "_opp-aLJRVIh"
      }
    },
    {
      "cell_type": "code",
      "source": [
        "score=[[0]*5 for i in range(3)]\n",
        "for sc in score:\n",
        "  print(sc)\n",
        "print(score)"
      ],
      "metadata": {
        "colab": {
          "base_uri": "https://localhost:8080/"
        },
        "id": "GxU2FL1GRc_y",
        "outputId": "7acd1af0-6254-4260-fa64-cb23a7d82406"
      },
      "execution_count": 19,
      "outputs": [
        {
          "output_type": "stream",
          "name": "stdout",
          "text": [
            "[0, 0, 0, 0, 0]\n",
            "[0, 0, 0, 0, 0]\n",
            "[0, 0, 0, 0, 0]\n",
            "[[0, 0, 0, 0, 0], [0, 0, 0, 0, 0], [0, 0, 0, 0, 0]]\n"
          ]
        }
      ]
    },
    {
      "cell_type": "markdown",
      "source": [
        "## 輸入 本金、年利率與存款年數,算出每年的本利和"
      ],
      "metadata": {
        "id": "4ZF3R26tTDyh"
      }
    },
    {
      "cell_type": "code",
      "source": [
        "# ch7_7.ipynb\n",
        "money = 50000\n",
        "rate = 0.015\n",
        "n = 5\n",
        "for i in range(n):\n",
        "    money *= (1 + rate)\n",
        "    print(f\"第 {i+1} 年本金和 : {int(money)}\")"
      ],
      "metadata": {
        "colab": {
          "base_uri": "https://localhost:8080/"
        },
        "id": "vOnh6ggVTXD-",
        "outputId": "a977b823-01aa-4079-8837-19f0bde30f03"
      },
      "execution_count": 20,
      "outputs": [
        {
          "output_type": "stream",
          "name": "stdout",
          "text": [
            "第 1 年本金和 : 50749\n",
            "第 2 年本金和 : 51511\n",
            "第 3 年本金和 : 52283\n",
            "第 4 年本金和 : 53068\n",
            "第 5 年本金和 : 53864\n"
          ]
        }
      ]
    },
    {
      "cell_type": "code",
      "source": [
        "money = int(input('輸入本金:'))\n",
        "rate = float(input('輸入年利率:'))\n",
        "n = int(input('輸入年數:'))\n",
        "for i in range(n):\n",
        "    money *= (1 + rate)\n",
        "    print(f\"第 {i+1} 年本金和 : {int(money)}\")"
      ],
      "metadata": {
        "id": "eb2E8Wpc9FfD",
        "outputId": "ee1bb173-e844-4bc0-d012-b4e2f9eb469a",
        "colab": {
          "base_uri": "https://localhost:8080/"
        }
      },
      "execution_count": 21,
      "outputs": [
        {
          "output_type": "stream",
          "name": "stdout",
          "text": [
            "輸入本金:1000000\n",
            "輸入年利率:0.0209\n",
            "輸入年數:10\n",
            "第 1 年本金和 : 1020899\n",
            "第 2 年本金和 : 1042236\n",
            "第 3 年本金和 : 1064019\n",
            "第 4 年本金和 : 1086257\n",
            "第 5 年本金和 : 1108960\n",
            "第 6 年本金和 : 1132137\n",
            "第 7 年本金和 : 1155799\n",
            "第 8 年本金和 : 1179955\n",
            "第 9 年本金和 : 1204616\n",
            "第 10 年本金和 : 1229793\n"
          ]
        }
      ]
    },
    {
      "cell_type": "markdown",
      "source": [
        "## 輸入 n,m (m>n), 計算 n加到m的和,\n",
        "## 如: 0,100, 0+1+2+3+4+...+100=5050"
      ],
      "metadata": {
        "id": "qXSTMOGTTkgE"
      }
    },
    {
      "cell_type": "code",
      "source": [
        "n = int(input(\"輸入n:\"))\n",
        "m = int(input(\"輸入m:\"))\n",
        "sum=0\n",
        "if m>n:\n",
        "  for i in range(n,m+1):\n",
        "    sum=sum+i\n",
        "print(sum)"
      ],
      "metadata": {
        "colab": {
          "base_uri": "https://localhost:8080/"
        },
        "id": "3t6W2pRBT7Sj",
        "outputId": "f9eb1278-ba65-4303-80e8-5bcae18bb486"
      },
      "execution_count": 23,
      "outputs": [
        {
          "output_type": "stream",
          "name": "stdout",
          "text": [
            "輸入n:1\n",
            "輸入m:100\n",
            "5050\n"
          ]
        }
      ]
    },
    {
      "cell_type": "markdown",
      "source": [
        "## 使用 zip()打包物件"
      ],
      "metadata": {
        "id": "618fisZTUnTV"
      }
    },
    {
      "cell_type": "code",
      "source": [
        "# ch8_11.ipynb\n",
        "fields = ['Name', 'Age', 'Hometown']\n",
        "info = ['Peter', '30', 'Chicago']\n",
        "zipData = zip(fields, info)     # 執行zip\n",
        "print(type(zipData))            # 列印zip資料類型\n",
        "player = list(zipData)          # 將zip資料轉成串列\n",
        "print(player)"
      ],
      "metadata": {
        "colab": {
          "base_uri": "https://localhost:8080/"
        },
        "id": "wbKAeT9WUtTE",
        "outputId": "26504e3c-7811-440f-f27e-e78e6458b626"
      },
      "execution_count": 24,
      "outputs": [
        {
          "output_type": "stream",
          "name": "stdout",
          "text": [
            "<class 'zip'>\n",
            "[('Name', 'Peter'), ('Age', '30'), ('Hometown', 'Chicago')]\n"
          ]
        }
      ]
    },
    {
      "cell_type": "code",
      "source": [
        "# ch8_12.ipynb\n",
        "fields = ['Name', 'Age', 'Hometown']\n",
        "info = ['Peter', '30']\n",
        "zipData = zip(fields, info)   # 執行zip\n",
        "print(type(zipData))          # 列印zip資料類型\n",
        "player = list(zipData)        # 將zip資料轉成串列\n",
        "print(player)                 # 列印串列"
      ],
      "metadata": {
        "colab": {
          "base_uri": "https://localhost:8080/"
        },
        "id": "3l-hOaFvVSse",
        "outputId": "c92ad7e0-667a-40ac-d672-1704286ab518"
      },
      "execution_count": null,
      "outputs": [
        {
          "output_type": "stream",
          "name": "stdout",
          "text": [
            "<class 'zip'>\n",
            "[('Name', 'Peter'), ('Age', '30')]\n"
          ]
        }
      ]
    },
    {
      "cell_type": "code",
      "source": [
        "# ch8_13.ipynb\n",
        "fields = ['Name', 'Age', 'Hometown']\n",
        "info = ['Peter', '30', 'Chicago']\n",
        "zipData = zip(fields, info)     # 執行zip\n",
        "print(type(zipData))            # 列印zip資料類型\n",
        "player = list(zipData)          # 將zip資料轉成串列\n",
        "print(player)                   # 列印串列\n",
        "\n",
        "f, i = zip(*player)             # 執行unzip\n",
        "print(\"fields = \", list(f))\n",
        "print(\"info   = \", list(i))"
      ],
      "metadata": {
        "colab": {
          "base_uri": "https://localhost:8080/"
        },
        "id": "blMRFKZmVcnM",
        "outputId": "11ed3ad1-850c-4cf4-9857-4fd87183c2ca"
      },
      "execution_count": 26,
      "outputs": [
        {
          "output_type": "stream",
          "name": "stdout",
          "text": [
            "<class 'zip'>\n",
            "[('Name', 'Peter'), ('Age', '30'), ('Hometown', 'Chicago')]\n",
            "fields =  ['Name', 'Age', 'Hometown']\n",
            "info   =  ['Peter', '30', 'Chicago']\n"
          ]
        }
      ]
    },
    {
      "cell_type": "markdown",
      "source": [
        "## BMI值計算\n",
        "\n",
        "##### BMI值計算公式:    BMI = 體重(公斤) / $身高^2$($公尺^2$)\n",
        "\n",
        "##### 例如：一個52公斤的人，身高是155公分，則BMI為 :\n",
        "\n",
        "##### 52(公斤)/$1.55^2$ ( $公尺^2$ )= 21.6\n",
        "\n",
        "##### 體重正常範圍為  BMI=18.5～24"
      ],
      "metadata": {
        "id": "jUyN6VOQCM78"
      }
    },
    {
      "cell_type": "code",
      "source": [
        "h=float(input('請輸入身高(公分)? '))\n",
        "w=float(input('請輸入體重(公斤)? '))\n",
        "bmi = w/(pow(h/100.,2))\n",
        "print('你的BMI值:{:6.2f}'.format(bmi))"
      ],
      "metadata": {
        "colab": {
          "base_uri": "https://localhost:8080/"
        },
        "id": "6tdbNz-j7x07",
        "outputId": "2b4bf86d-770c-46fa-cb69-2aa50f46cd64"
      },
      "execution_count": 27,
      "outputs": [
        {
          "output_type": "stream",
          "name": "stdout",
          "text": [
            "請輸入身高(公分)? 177\n",
            "請輸入體重(公斤)? 80\n",
            "你的BMI值: 25.54\n"
          ]
        }
      ]
    },
    {
      "cell_type": "code",
      "source": [
        "while True:\n",
        "  h=float(input('請輸入身高(公分)? '))\n",
        "  if h==0:\n",
        "    break\n",
        "  w=float(input('請輸入體重(公斤)? '))\n",
        "  bmi = w/(pow(h/100.,2))\n",
        "  print('你的BMI值:{:6.2f}'.format(bmi))"
      ],
      "metadata": {
        "colab": {
          "base_uri": "https://localhost:8080/"
        },
        "id": "8tKn0LNfFyZO",
        "outputId": "511b73ca-4242-4aac-bccc-b07eb5676cd7"
      },
      "execution_count": 28,
      "outputs": [
        {
          "name": "stdout",
          "output_type": "stream",
          "text": [
            "請輸入身高(公分)? 170\n",
            "請輸入體重(公斤)? 50\n",
            "你的BMI值: 17.30\n",
            "請輸入身高(公分)? 0\n"
          ]
        }
      ]
    },
    {
      "cell_type": "code",
      "source": [
        "def BMI():\n",
        "  h=float(input('請輸入身高(公分)? '))\n",
        "  w=float(input('請輸入體重(公斤)? '))\n",
        "  bmi = w/(pow(h/100.,2))\n",
        "  print('你的BMI值:{:6.2f}'.format(bmi))\n",
        "\n",
        "BMI()"
      ],
      "metadata": {
        "colab": {
          "base_uri": "https://localhost:8080/"
        },
        "id": "Xx0U8TQNGN1U",
        "outputId": "49fff3fd-aa02-4f85-974b-7a2d860f0595"
      },
      "execution_count": 29,
      "outputs": [
        {
          "output_type": "stream",
          "name": "stdout",
          "text": [
            "請輸入身高(公分)? 176\n",
            "請輸入體重(公斤)? 80\n",
            "你的BMI值: 25.83\n"
          ]
        }
      ]
    },
    {
      "cell_type": "code",
      "source": [
        "def BMI():\n",
        "  h=float(input('請輸入身高(公分)? '))\n",
        "  w=float(input('請輸入體重(公斤)? '))\n",
        "  bmi = w/(pow(h/100.,2))\n",
        "  print('你的BMI值:{:6.2f}'.format(bmi))\n",
        "\n",
        "while True:\n",
        "  BMI()\n",
        "  q=input('按q結束')\n",
        "  if q=='q':\n",
        "    break"
      ],
      "metadata": {
        "colab": {
          "base_uri": "https://localhost:8080/"
        },
        "id": "UkWzF84YHTnX",
        "outputId": "ed7998c3-f90b-4a56-a63e-bc7466f51063"
      },
      "execution_count": 30,
      "outputs": [
        {
          "name": "stdout",
          "output_type": "stream",
          "text": [
            "請輸入身高(公分)? 176\n",
            "請輸入體重(公斤)? 74\n",
            "你的BMI值: 23.89\n",
            "按q結束\n",
            "請輸入身高(公分)? 170\n",
            "請輸入體重(公斤)? 58\n",
            "你的BMI值: 20.07\n",
            "按q結束q\n"
          ]
        }
      ]
    },
    {
      "cell_type": "code",
      "source": [
        "i=1\n",
        "while i<10:\n",
        "  for j in range(10):\n",
        "     print('{}x{}={:2d}'.format(i,j,i*j),end=' ')\n",
        "  print()\n",
        "  i=i+1"
      ],
      "metadata": {
        "colab": {
          "base_uri": "https://localhost:8080/"
        },
        "id": "9wMww6dpIksg",
        "outputId": "f125832d-93b7-4d2b-e8bd-843d06d95b66"
      },
      "execution_count": null,
      "outputs": [
        {
          "output_type": "stream",
          "name": "stdout",
          "text": [
            "1x0= 0 1x1= 1 1x2= 2 1x3= 3 1x4= 4 1x5= 5 1x6= 6 1x7= 7 1x8= 8 1x9= 9 \n",
            "2x0= 0 2x1= 2 2x2= 4 2x3= 6 2x4= 8 2x5=10 2x6=12 2x7=14 2x8=16 2x9=18 \n",
            "3x0= 0 3x1= 3 3x2= 6 3x3= 9 3x4=12 3x5=15 3x6=18 3x7=21 3x8=24 3x9=27 \n",
            "4x0= 0 4x1= 4 4x2= 8 4x3=12 4x4=16 4x5=20 4x6=24 4x7=28 4x8=32 4x9=36 \n",
            "5x0= 0 5x1= 5 5x2=10 5x3=15 5x4=20 5x5=25 5x6=30 5x7=35 5x8=40 5x9=45 \n",
            "6x0= 0 6x1= 6 6x2=12 6x3=18 6x4=24 6x5=30 6x6=36 6x7=42 6x8=48 6x9=54 \n",
            "7x0= 0 7x1= 7 7x2=14 7x3=21 7x4=28 7x5=35 7x6=42 7x7=49 7x8=56 7x9=63 \n",
            "8x0= 0 8x1= 8 8x2=16 8x3=24 8x4=32 8x5=40 8x6=48 8x7=56 8x8=64 8x9=72 \n",
            "9x0= 0 9x1= 9 9x2=18 9x3=27 9x4=36 9x5=45 9x6=54 9x7=63 9x8=72 9x9=81 \n"
          ]
        }
      ]
    },
    {
      "cell_type": "code",
      "source": [],
      "metadata": {
        "id": "wDJQYalwJjXO"
      },
      "execution_count": null,
      "outputs": []
    }
  ]
}