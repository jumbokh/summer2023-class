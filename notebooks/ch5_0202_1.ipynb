{
  "nbformat": 4,
  "nbformat_minor": 0,
  "metadata": {
    "colab": {
      "provenance": []
    },
    "kernelspec": {
      "name": "python3",
      "display_name": "Python 3"
    },
    "language_info": {
      "name": "python"
    }
  },
  "cells": [
    {
      "cell_type": "code",
      "execution_count": 2,
      "metadata": {
        "colab": {
          "base_uri": "https://localhost:8080/"
        },
        "id": "mS3ZEX0ym8os",
        "outputId": "9fb72335-960b-4502-beb1-910ed1ac82ed"
      },
      "outputs": [
        {
          "output_type": "stream",
          "name": "stdout",
          "text": [
            "4\n"
          ]
        }
      ],
      "source": [
        "import random\n",
        "print(random.randint(1,6))"
      ]
    },
    {
      "cell_type": "code",
      "source": [
        "from random import randint as ri\n",
        "for i in range(10):\n",
        "  print(ri(1,6),end=\" \")\n",
        "print()"
      ],
      "metadata": {
        "colab": {
          "base_uri": "https://localhost:8080/"
        },
        "id": "M3vOL_wxrj6G",
        "outputId": "5520f950-2a02-4b0a-9075-a0e0eb03412c"
      },
      "execution_count": 4,
      "outputs": [
        {
          "output_type": "stream",
          "name": "stdout",
          "text": [
            "3 5 5 3 5 2 4 3 1 4 \n"
          ]
        }
      ]
    },
    {
      "cell_type": "code",
      "source": [
        "from random import randint as ri\n",
        "import random\n",
        "s=['A','B','C','D','E']\n",
        "for i in range(10):\n",
        " print(' {:2s}'.format(random.choice(s)),end='')\n",
        "print()"
      ],
      "metadata": {
        "colab": {
          "base_uri": "https://localhost:8080/"
        },
        "id": "YwTjK7l2r2l-",
        "outputId": "0add0f14-e5e5-4bcd-ec5a-d11137521ba5"
      },
      "execution_count": 5,
      "outputs": [
        {
          "output_type": "stream",
          "name": "stdout",
          "text": [
            " A  E  C  A  E  B  E  B  E  C \n"
          ]
        }
      ]
    },
    {
      "cell_type": "code",
      "source": [
        "num=list(range(1,50))\n",
        "print(num)\n",
        "num.remove(20)\n",
        "print(num)"
      ],
      "metadata": {
        "colab": {
          "base_uri": "https://localhost:8080/"
        },
        "id": "-FvATk9hs-CM",
        "outputId": "4348e9f8-d1d5-49d5-e49d-a87da006e9f1"
      },
      "execution_count": 8,
      "outputs": [
        {
          "output_type": "stream",
          "name": "stdout",
          "text": [
            "[1, 2, 3, 4, 5, 6, 7, 8, 9, 10, 11, 12, 13, 14, 15, 16, 17, 18, 19, 20, 21, 22, 23, 24, 25, 26, 27, 28, 29, 30, 31, 32, 33, 34, 35, 36, 37, 38, 39, 40, 41, 42, 43, 44, 45, 46, 47, 48, 49]\n",
            "[1, 2, 3, 4, 5, 6, 7, 8, 9, 10, 11, 12, 13, 14, 15, 16, 17, 18, 19, 21, 22, 23, 24, 25, 26, 27, 28, 29, 30, 31, 32, 33, 34, 35, 36, 37, 38, 39, 40, 41, 42, 43, 44, 45, 46, 47, 48, 49]\n"
          ]
        }
      ]
    },
    {
      "cell_type": "code",
      "source": [
        "lis1=[]\n",
        "for i in range(10):\n",
        " n=random.choice(num)\n",
        " if n in lis1:\n",
        "   print(' {:2d}'.format(n))\n",
        " else:\n",
        "   lis1.append(n)\n",
        "print(lis1)"
      ],
      "metadata": {
        "colab": {
          "base_uri": "https://localhost:8080/"
        },
        "id": "sj1VkZ5BtVQr",
        "outputId": "a0919b27-150e-45d8-8152-54d96b73bf68"
      },
      "execution_count": 12,
      "outputs": [
        {
          "output_type": "stream",
          "name": "stdout",
          "text": [
            " 48\n",
            " 26\n",
            "[48, 43, 11, 13, 5, 26, 42, 16]\n"
          ]
        }
      ]
    },
    {
      "cell_type": "code",
      "source": [
        "lis1=[]\n",
        "n1=0\n",
        "while n1 < 10:\n",
        "  n=random.choice(num)\n",
        "  if n in lis1:\n",
        "   continue\n",
        "  else:\n",
        "   lis1.append(n)\n",
        "   n1=n1+1\n",
        "print(lis1)"
      ],
      "metadata": {
        "colab": {
          "base_uri": "https://localhost:8080/"
        },
        "id": "EpG6BrDltlD6",
        "outputId": "2b1d9041-9528-4085-a17a-b9573d9b7c6f"
      },
      "execution_count": 14,
      "outputs": [
        {
          "output_type": "stream",
          "name": "stdout",
          "text": [
            "[8, 46, 37, 45, 3, 34, 35, 41, 32, 29]\n"
          ]
        }
      ]
    },
    {
      "cell_type": "code",
      "source": [
        "oddlist1=[num for num in range(1,10) if num%2==0]\n",
        "print(oddlist1)"
      ],
      "metadata": {
        "colab": {
          "base_uri": "https://localhost:8080/"
        },
        "id": "3utql-JvvTK6",
        "outputId": "f295839e-9247-4f8d-fc41-28089a4fad19"
      },
      "execution_count": 16,
      "outputs": [
        {
          "output_type": "stream",
          "name": "stdout",
          "text": [
            "[2, 4, 6, 8]\n"
          ]
        }
      ]
    },
    {
      "cell_type": "code",
      "source": [
        "import math\n",
        "a=6\n",
        "b=8\n",
        "c=a**2+b**2\n",
        "print(math.sqrt(c))"
      ],
      "metadata": {
        "colab": {
          "base_uri": "https://localhost:8080/"
        },
        "id": "s21Pxtcew1me",
        "outputId": "1d0aaa0a-11eb-45b1-c7e7-5a1d0ceed889"
      },
      "execution_count": 25,
      "outputs": [
        {
          "output_type": "stream",
          "name": "stdout",
          "text": [
            "10.0\n"
          ]
        }
      ]
    },
    {
      "cell_type": "code",
      "source": [
        "c=pow(a,2)+pow(b,2)\n",
        "print(c)"
      ],
      "metadata": {
        "colab": {
          "base_uri": "https://localhost:8080/"
        },
        "id": "qFgpouvGxonw",
        "outputId": "42202742-4771-4d37-fd3d-ae0af1c0ff58"
      },
      "execution_count": 21,
      "outputs": [
        {
          "output_type": "stream",
          "name": "stdout",
          "text": [
            "25\n"
          ]
        }
      ]
    },
    {
      "cell_type": "code",
      "source": [
        "c=a*a+b*b\n",
        "print(c)"
      ],
      "metadata": {
        "colab": {
          "base_uri": "https://localhost:8080/"
        },
        "id": "5wu7PaHHx0Hm",
        "outputId": "88d97214-9f19-41e9-81ea-e9f83e097755"
      },
      "execution_count": 22,
      "outputs": [
        {
          "output_type": "stream",
          "name": "stdout",
          "text": [
            "25\n"
          ]
        }
      ]
    },
    {
      "cell_type": "code",
      "source": [
        "def isprime(num):\n",
        "  if num == 2:\n",
        "    return True\n",
        "  else:\n",
        "    for n in range(2,num):\n",
        "      if num%n==0:\n",
        "        return False\n",
        "  return True"
      ],
      "metadata": {
        "id": "EQMGtJxNx9OO"
      },
      "execution_count": 36,
      "outputs": []
    },
    {
      "cell_type": "code",
      "source": [
        "num = int(input(\"請輸入大於1的整數做質數測試? \"))\n",
        "if isprime(num):\n",
        "  print(f\"{num}是質數\")\n",
        "else:\n",
        "  print(f\"{num}不是質數\")"
      ],
      "metadata": {
        "colab": {
          "base_uri": "https://localhost:8080/"
        },
        "id": "Z9ew5nEb3f_B",
        "outputId": "8550b8e2-b9fd-44fc-c5aa-5e2ff806bb10"
      },
      "execution_count": 37,
      "outputs": [
        {
          "output_type": "stream",
          "name": "stdout",
          "text": [
            "請輸入大於1的整數做質數測試? 97\n",
            "97是質數\n"
          ]
        }
      ]
    },
    {
      "cell_type": "code",
      "source": [
        "lis1=[]\n",
        "for i in range(500,700):\n",
        "  if isprime(i):\n",
        "    lis1.append(i)\n",
        "print(lis1)"
      ],
      "metadata": {
        "colab": {
          "base_uri": "https://localhost:8080/"
        },
        "id": "0DRjN_BY4REs",
        "outputId": "3a5e83d6-9e11-4306-a526-bc72ad950b02"
      },
      "execution_count": 38,
      "outputs": [
        {
          "output_type": "stream",
          "name": "stdout",
          "text": [
            "[503, 509, 521, 523, 541, 547, 557, 563, 569, 571, 577, 587, 593, 599, 601, 607, 613, 617, 619, 631, 641, 643, 647, 653, 659, 661, 673, 677, 683, 691]\n"
          ]
        }
      ]
    },
    {
      "cell_type": "code",
      "source": [
        "drinks=[\"coffee\",\"tea\",\"wine\"]\n",
        "for drink in enumerate(drinks):\n",
        "  print(drink)\n",
        "print(\"***********************\")\n",
        "for i in range(3):\n",
        "  print(drinks[i])"
      ],
      "metadata": {
        "colab": {
          "base_uri": "https://localhost:8080/"
        },
        "id": "6RBZHWJy55Ut",
        "outputId": "f8d6c177-4bca-4154-b146-efb248ef6475"
      },
      "execution_count": 39,
      "outputs": [
        {
          "output_type": "stream",
          "name": "stdout",
          "text": [
            "(0, 'coffee')\n",
            "(1, 'tea')\n",
            "(2, 'wine')\n",
            "***********************\n",
            "coffee\n",
            "tea\n",
            "wine\n"
          ]
        }
      ]
    },
    {
      "cell_type": "code",
      "source": [
        "for drink in enumerate(drinks,101):\n",
        "  print(drink)"
      ],
      "metadata": {
        "colab": {
          "base_uri": "https://localhost:8080/"
        },
        "id": "DFbZLZLL7dpi",
        "outputId": "7c146a7c-4bb8-446e-8068-a5281ed1dc78"
      },
      "execution_count": 42,
      "outputs": [
        {
          "output_type": "stream",
          "name": "stdout",
          "text": [
            "(101, 'coffee')\n",
            "(102, 'tea')\n",
            "(103, 'wine')\n"
          ]
        }
      ]
    },
    {
      "cell_type": "code",
      "source": [
        "for count, drink in enumerate(drinks,1):\n",
        "  print(count, drink)"
      ],
      "metadata": {
        "colab": {
          "base_uri": "https://localhost:8080/"
        },
        "id": "ydcQ2o6Y7gTU",
        "outputId": "4132aba1-ee79-4d75-9800-5fd8e11e733e"
      },
      "execution_count": 45,
      "outputs": [
        {
          "output_type": "stream",
          "name": "stdout",
          "text": [
            "1 coffee\n",
            "2 tea\n",
            "3 wine\n"
          ]
        }
      ]
    },
    {
      "cell_type": "code",
      "source": [],
      "metadata": {
        "id": "dlaEpjVd71Hu"
      },
      "execution_count": null,
      "outputs": []
    }
  ]
}