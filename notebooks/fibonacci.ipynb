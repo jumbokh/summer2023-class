{
 "cells": [
  {
   "cell_type": "code",
   "execution_count": 3,
   "id": "572e940a-9dc2-412c-a0ea-9c4c534698d0",
   "metadata": {},
   "outputs": [
    {
     "name": "stdout",
     "output_type": "stream",
     "text": [
      "0\n",
      "0\n"
     ]
    }
   ],
   "source": [
    "a = 0\n",
    "b = 1\n",
    "n=8\n",
    "for i in range(n):\n",
    "        if (i <=1): \n",
    "            print(a) \n",
    "        else: \n",
    "            c = a + b \n",
    "            a = b \n",
    "            b = c"
   ]
  },
  {
   "cell_type": "code",
   "execution_count": 4,
   "id": "74c81ff8-89b5-43f0-8f31-337911dad047",
   "metadata": {},
   "outputs": [
    {
     "name": "stdout",
     "output_type": "stream",
     "text": [
      "0 1 1 2 3 5 8 13 21 34 "
     ]
    }
   ],
   "source": [
    "def print_fibonacci(n):\n",
    "    a, b = 0, 1\n",
    "    for _ in range(n):\n",
    "        print(a, end=\" \")\n",
    "        a, b = b, a + b\n",
    "\n",
    "# Example usage:\n",
    "n = 10  # Replace with the desired value of n\n",
    "print_fibonacci(n)"
   ]
  },
  {
   "cell_type": "code",
   "execution_count": null,
   "id": "d067e1d9-fb66-4cd4-a920-292d83f01862",
   "metadata": {},
   "outputs": [],
   "source": []
  }
 ],
 "metadata": {
  "kernelspec": {
   "display_name": "cv",
   "language": "python",
   "name": "cv"
  },
  "language_info": {
   "codemirror_mode": {
    "name": "ipython",
    "version": 3
   },
   "file_extension": ".py",
   "mimetype": "text/x-python",
   "name": "python",
   "nbconvert_exporter": "python",
   "pygments_lexer": "ipython3",
   "version": "3.11.2"
  }
 },
 "nbformat": 4,
 "nbformat_minor": 5
}
