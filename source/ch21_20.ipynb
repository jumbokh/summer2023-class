{
  "nbformat": 4,
  "nbformat_minor": 0,
  "metadata": {
    "colab": {
      "provenance": []
    },
    "kernelspec": {
      "name": "python3",
      "display_name": "Python 3"
    },
    "language_info": {
      "name": "python"
    }
  },
  "cells": [
    {
      "cell_type": "code",
      "execution_count": 1,
      "metadata": {
        "id": "ufkn4VxaqYR5",
        "outputId": "186e1d94-a6f6-449c-b7f4-f87acb5527b1",
        "colab": {
          "base_uri": "https://localhost:8080/"
        }
      },
      "outputs": [
        {
          "output_type": "stream",
          "name": "stdout",
          "text": [
            "列出串列元素的資料型態    =  <class 'bs4.element.Tag'>\n",
            "<h1 id=\"author\">洪錦魁</h1>\n",
            "列出str()轉換過的資料型態 =  <class 'str'>\n",
            "<h1 id=\"author\">洪錦魁</h1>\n"
          ]
        }
      ],
      "source": [
        "# ch21_20.ipynb\n",
        "import bs4\n",
        "\n",
        "htmlFile = open('myhtml.html', encoding='utf-8')\n",
        "objSoup = bs4.BeautifulSoup(htmlFile, 'lxml')\n",
        "objTag = objSoup.select('#author')\n",
        "print(\"列出串列元素的資料型態    = \", type(objTag[0]))\n",
        "print(objTag[0])\n",
        "print(\"列出str()轉換過的資料型態 = \", type(str(objTag[0])))\n",
        "print(str(objTag[0]))"
      ]
    }
  ]
}